{
 "cells": [
  {
   "cell_type": "code",
   "execution_count": 3,
   "metadata": {},
   "outputs": [],
   "source": [
    "import torch\n",
    "import io\n",
    "import itertools\n",
    "import os\n",
    "import os.path as osp\n",
    "from collections import defaultdict, namedtuple\n",
    "\n",
    "import dgl\n",
    "import matplotlib.pyplot as plt\n",
    "import numpy as np\n",
    "import scipy\n",
    "import scipy.sparse as sparse\n",
    "import sklearn.preprocessing as preprocessing\n",
    "import torch\n",
    "import torch.nn.functional as F\n",
    "from dgl.data.tu import TUDataset\n",
    "from scipy.sparse import linalg\n",
    "\n",
    "\n",
    "import argparse\n",
    "import copy\n",
    "import os\n",
    "import time\n",
    "import warnings\n",
    "\n",
    "import dgl\n",
    "import numpy as np\n",
    "import psutil\n",
    "import torch\n",
    "import torch.nn as nn\n",
    "from joblib import Parallel, delayed\n",
    "from sklearn.metrics import accuracy_score, f1_score\n",
    "from sklearn.model_selection import StratifiedKFold\n",
    "from torch.utils.tensorboard import SummaryWriter\n",
    "\n",
    "from gcc.contrastive.criterions import NCESoftmaxLoss, NCESoftmaxLossNS\n",
    "from gcc.contrastive.memory_moco import MemoryMoCo\n",
    "from gcc.datasets import (\n",
    "    GRAPH_CLASSIFICATION_DSETS,\n",
    "    GraphClassificationDataset,\n",
    "    GraphClassificationDatasetLabeled,\n",
    "    LoadBalanceGraphDataset,\n",
    "    NodeClassificationDataset,\n",
    "    NodeClassificationDatasetLabeled,\n",
    "    worker_init_fn,\n",
    ")\n",
    "from gcc.datasets.data_util import batcher, labeled_batcher\n",
    "from gcc.models import GraphEncoder\n",
    "from gcc.utils.misc import AverageMeter, adjust_learning_rate, warmup_linear\n",
    "\n",
    "from gcc.datasets import data_util\n",
    "\n",
    "\n",
    "from gcc.utils import rwr\n",
    "\n",
    "\n"
   ]
  },
  {
   "cell_type": "code",
   "execution_count": 12,
   "metadata": {},
   "outputs": [
    {
     "name": "stdout",
     "output_type": "stream",
     "text": [
      "Dataset(\"IMDB-BINARY\", num_graphs=1000, save_path=/home/shakir/.dgl/IMDB-BINARY_3673667b)\n",
      "torch.Size([1000])\n",
      "(Graph(num_nodes=20, num_edges=292,\n",
      "      ndata_schemes={'_ID': Scheme(shape=(), dtype=torch.int64)}\n",
      "      edata_schemes={'_ID': Scheme(shape=(), dtype=torch.int64)}), tensor([0]))\n",
      "['_name', '_url', '_force_reload', '_verbose', '_hash_key', '_hash', '_transform', '_raw_dir', '_save_dir', 'graph_lists', 'graph_labels', 'max_num_node', 'num_labels', '__module__', '__doc__', '__init__', 'process', 'save', 'load', 'has_cache', '__getitem__', '__len__', '_file_path', '_idx_from_zero', '_idx_reset', 'statistics', 'num_classes', 'download', '_download', '_load', '_get_hash', '_get_hash_url_suffix', 'url', 'name', 'raw_dir', 'raw_path', 'save_dir', 'save_path', 'verbose', 'hash', '__repr__', '__dict__', '__weakref__', '__hash__', '__str__', '__getattribute__', '__setattr__', '__delattr__', '__lt__', '__le__', '__eq__', '__ne__', '__gt__', '__ge__', '__new__', '__reduce_ex__', '__reduce__', '__subclasshook__', '__init_subclass__', '__format__', '__sizeof__', '__dir__', '__class__']\n"
     ]
    }
   ],
   "source": [
    "def create_graph_classification_dataset(dataset_name):\n",
    "    name = {\n",
    "        \"imdb-binary\": \"IMDB-BINARY\",\n",
    "        \"imdb-multi\": \"IMDB-MULTI\",\n",
    "        \"rdt-b\": \"REDDIT-BINARY\",\n",
    "        \"rdt-5k\": \"REDDIT-MULTI-5K\",\n",
    "        \"collab\": \"COLLAB\",\n",
    "    }[dataset_name]\n",
    "    dataset = TUDataset(name)\n",
    "    # dataset.num_labels = dataset.num_labels[0]\n",
    "    dataset.num_labels = dataset.num_classes\n",
    "    dataset.graph_labels = dataset.graph_labels.squeeze()\n",
    "    return dataset\n",
    "\n",
    "collab = TUDataset(\"IMDB-BINARY\")\n",
    "print(collab)\n",
    "print(collab.graph_labels.squeeze().size())\n",
    "print(collab[0])\n",
    "print(collab.__dir__())"
   ]
  },
  {
   "cell_type": "code",
   "execution_count": 29,
   "metadata": {},
   "outputs": [
    {
     "name": "stdout",
     "output_type": "stream",
     "text": [
      "cpu\n",
      "cuda:0\n"
     ]
    }
   ],
   "source": [
    "x = torch.tensor([[1,2,3,4],[5,7,8,9]])\n",
    "print(x.device)\n",
    "x = x.cuda(0)\n",
    "print(x.device)\n"
   ]
  },
  {
   "cell_type": "code",
   "execution_count": 24,
   "metadata": {},
   "outputs": [
    {
     "name": "stdout",
     "output_type": "stream",
     "text": [
      "{'_graph': <dgl.heterograph_index.HeteroGraphIndex object at 0x7f64d4f8ae00>, '_canonical_etypes': [('_N', '_E', '_N')], '_batch_num_nodes': None, '_batch_num_edges': None, '_ntypes': ['_N'], '_is_unibipartite': False, '_srctypes_invmap': {'_N': 0}, '_dsttypes_invmap': {'_N': 0}, '_etypes': ['_E'], '_etype2canonical': {'_E': ('_N', '_E', '_N')}, '_etypes_invmap': {('_N', '_E', '_N'): 0}, '_node_frames': [{'_ID': tensor([ 0,  1,  2,  3,  4,  5,  6,  7,  8,  9, 10, 11, 12, 13, 14, 15, 16, 17,\n",
      "        18, 19])}], '_edge_frames': [{'_ID': tensor([  0,   2,   4,   6,   8,  27,  77,  87, 141, 151,  10,  12,  14,  16,\n",
      "         18,  20,  22,  24,  29,  97, 125, 173, 201, 237, 253, 269,   1,  11,\n",
      "         26,  28,  30,  32,  34,  36,  38,  40,  42,  44,  46,  48,  50,  52,\n",
      "         54,  56,  58,  60,  62,  65,  79,  89,  99, 119, 127, 143, 153, 161,\n",
      "        175, 195, 203, 217, 225, 239, 255, 271,  31,  64,  66,  68,  70,  72,\n",
      "         74, 101, 163, 177, 227, 273,   3,  33,  76,  78,  80,  82,  84,  91,\n",
      "        145, 155,   5,  35,  81,  86,  88,  90,  92,  94, 147, 157,  13,  37,\n",
      "         67,  96,  98, 100, 102, 104, 106, 108, 110, 112, 114, 116, 129, 165,\n",
      "        179, 205, 229, 241, 257, 275,  39, 118, 120, 122, 197, 219,  15,  41,\n",
      "        103, 124, 126, 128, 130, 132, 134, 136, 138, 181, 207, 243, 259, 277,\n",
      "          7,  43,  83,  93, 140, 142, 144, 146, 148, 159,   9,  45,  85,  95,\n",
      "        149, 150, 152, 154, 156, 158,  47,  69, 105, 160, 162, 164, 166, 168,\n",
      "        170, 183, 231, 279,  17,  49,  71, 107, 131, 167, 172, 174, 176, 178,\n",
      "        180, 182, 184, 186, 188, 190, 192, 209, 233, 245, 261, 281,  51, 121,\n",
      "        194, 196, 198, 221,  19,  53, 109, 133, 185, 200, 202, 204, 206, 208,\n",
      "        210, 212, 214, 247, 263, 283,  55, 123, 199, 216, 218, 220, 222, 285,\n",
      "         57,  73, 111, 169, 187, 224, 226, 228, 230, 232, 234, 287,  21,  59,\n",
      "        113, 135, 189, 211, 236, 238, 240, 242, 244, 246, 248, 250, 265, 289,\n",
      "         23,  61, 115, 137, 191, 213, 249, 252, 254, 256, 258, 260, 262, 264,\n",
      "        266, 291,  25,  63,  75, 117, 139, 171, 193, 215, 223, 235, 251, 267,\n",
      "        268, 270, 272, 274, 276, 278, 280, 282, 284, 286, 288, 290])}]}\n"
     ]
    }
   ],
   "source": [
    "dataset = TUDataset( \"IMDB-BINARY\")\n",
    "print(dataset.graph_lists[0].__dict__)\n",
    "# print(dataset.graph_labels.squeeze())\n",
    "\n",
    "# graph_k = dataset.graph_lists[0]\n",
    "\n",
    "# graph_k = graph_k.to(torch.device('cuda',1))\n",
    "# print(graph_k.device)\n"
   ]
  },
  {
   "cell_type": "code",
   "execution_count": 12,
   "metadata": {},
   "outputs": [
    {
     "name": "stdout",
     "output_type": "stream",
     "text": [
      "Graph(num_nodes=20, num_edges=292,\n",
      "      ndata_schemes={'_ID': Scheme(shape=(), dtype=torch.int64)}\n",
      "      edata_schemes={'_ID': Scheme(shape=(), dtype=torch.int64)})\n",
      "cuda:1\n"
     ]
    }
   ],
   "source": [
    "dataset = data_util.create_graph_classification_dataset('imdb-binary')\n",
    "graphs = dataset.graph_lists\n",
    "print(graphs[0])\n",
    "g4 = graphs[4].to('cuda:1')\n",
    "print(g4.device)\n"
   ]
  }
 ],
 "metadata": {
  "kernelspec": {
   "display_name": ".venv",
   "language": "python",
   "name": "python3"
  },
  "language_info": {
   "codemirror_mode": {
    "name": "ipython",
    "version": 3
   },
   "file_extension": ".py",
   "mimetype": "text/x-python",
   "name": "python",
   "nbconvert_exporter": "python",
   "pygments_lexer": "ipython3",
   "version": "3.8.10"
  },
  "orig_nbformat": 4
 },
 "nbformat": 4,
 "nbformat_minor": 2
}
