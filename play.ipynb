{
 "cells": [
  {
   "cell_type": "code",
   "execution_count": 4,
   "metadata": {},
   "outputs": [
    {
     "name": "stdout",
     "output_type": "stream",
     "text": [
      "Namespace(alpha=0.999, aug='1st', batch_size=32, beta1=0.9, beta2=0.999, clip_norm=1.0, cv=False, dataset='dgl', degree_embedding_size=16, epochs=100, exp='Pretrain', finetune=False, fold_idx=0, freq_embedding_size=16, gpu=0, hidden_size=64, learning_rate=0.005, load_path=None, lr_decay_epochs=[120, 160, 200], lr_decay_rate=0.0, max_degree=512, max_edge_freq=16, max_node_freq=16, moco=True, model='gin', model_folder='saved/Pretrain_moco_True_dgl_gin_layer_5_lr_0.005_decay_1e-05_bsz_32_hid_64_samples_2000_nce_t_0.07_nce_k_1024_rw_hops_256_restart_prob_0.8_aug_1st_ft_False_deg_16_pos_32_momentum_0.999', model_name='Pretrain_moco_True_dgl_gin_layer_5_lr_0.005_decay_1e-05_bsz_32_hid_64_samples_2000_nce_t_0.07_nce_k_1024_rw_hops_256_restart_prob_0.8_aug_1st_ft_False_deg_16_pos_32_momentum_0.999', model_path='saved', momentum=0.9, nce_k=1024, nce_t=0.07, norm=True, num_copies=6, num_layer=5, num_samples=2000, num_workers=12, optimizer='adam', positional_embedding_size=32, print_freq=10, readout='avg', restart_prob=0.8, resume='', rw_hops=256, save_freq=1, seed=0, set2set_iter=6, set2set_lstm_layer=3, subgraph_size=128, tb_folder='tensorboard/Pretrain_moco_True_dgl_gin_layer_5_lr_0.005_decay_1e-05_bsz_32_hid_64_samples_2000_nce_t_0.07_nce_k_1024_rw_hops_256_restart_prob_0.8_aug_1st_ft_False_deg_16_pos_32_momentum_0.999', tb_freq=250, tb_path='tensorboard', weight_decay=1e-05)\n",
      "Use GPU: 0 for training\n",
      "setting random seeds\n",
      "before construct dataset 22.786346435546875\n",
      "Traceback (most recent call last):\n",
      "  File \"train.py\", line 818, in <module>\n",
      "    main(args)\n",
      "  File \"train.py\", line 548, in main\n",
      "    train_dataset = LoadBalanceGraphDataset(\n",
      "  File \"/home/shakir/simplical_complices_gcc/gcc/datasets/graph_dataset.py\", line 59, in __init__\n",
      "    graph_sizes = dgl.data.utils.load_labels(dgl_graphs_file)[\n",
      "  File \"/home/shakir/.venv/lib/python3.8/site-packages/dgl/data/graph_serialize.py\", line 248, in load_labels\n",
      "    version = _CAPI_GetFileVersion(filename)\n",
      "  File \"dgl/_ffi/_cython/./function.pxi\", line 295, in dgl._ffi._cy3.core.FunctionBase.__call__\n",
      "  File \"dgl/_ffi/_cython/./function.pxi\", line 227, in dgl._ffi._cy3.core.FuncCall\n",
      "  File \"dgl/_ffi/_cython/./function.pxi\", line 217, in dgl._ffi._cy3.core.FuncCall3\n",
      "dgl._ffi.base.DGLError: [15:45:39] /opt/dgl/src/graph/serialize/graph_serialize.cc:128: Check failed: magicNum == kDGLSerializeMagic (5789751444030890300 vs. 15937764024707752255) : Invalid DGL files\n",
      "Stack trace:\n",
      "  [bt] (0) /home/shakir/.venv/lib/python3.8/site-packages/dgl/libdgl.so(dmlc::LogMessageFatal::~LogMessageFatal()+0x75) [0x7fbf74ab0a55]\n",
      "  [bt] (1) /home/shakir/.venv/lib/python3.8/site-packages/dgl/libdgl.so(dgl::serialize::GetFileVersion(std::string const&)+0x121) [0x7fbf74f35a01]\n",
      "  [bt] (2) /home/shakir/.venv/lib/python3.8/site-packages/dgl/libdgl.so(+0x80bb50) [0x7fbf74f35b50]\n",
      "  [bt] (3) /home/shakir/.venv/lib/python3.8/site-packages/dgl/libdgl.so(DGLFuncCall+0x48) [0x7fbf74e3ea48]\n",
      "  [bt] (4) /home/shakir/.venv/lib/python3.8/site-packages/dgl/_ffi/_cy3/core.cpython-38-x86_64-linux-gnu.so(+0x16843) [0x7fbf64e8d843]\n",
      "  [bt] (5) /home/shakir/.venv/lib/python3.8/site-packages/dgl/_ffi/_cy3/core.cpython-38-x86_64-linux-gnu.so(+0x1705b) [0x7fbf64e8e05b]\n",
      "  [bt] (6) python(_PyObject_MakeTpCall+0x29e) [0x5f3e1e]\n",
      "  [bt] (7) python(_PyEval_EvalFrameDefault+0x58e6) [0x570266]\n",
      "  [bt] (8) python(_PyFunction_Vectorcall+0x1b6) [0x5f6836]\n",
      "\n",
      "\n"
     ]
    }
   ],
   "source": [
    "!bash scripts/pretrain.sh 0 --moco --nce-k 1024\n",
    "\n"
   ]
  }
 ],
 "metadata": {
  "kernelspec": {
   "display_name": ".venv",
   "language": "python",
   "name": "python3"
  },
  "language_info": {
   "codemirror_mode": {
    "name": "ipython",
    "version": 3
   },
   "file_extension": ".py",
   "mimetype": "text/x-python",
   "name": "python",
   "nbconvert_exporter": "python",
   "pygments_lexer": "ipython3",
   "version": "3.8.10"
  },
  "orig_nbformat": 4
 },
 "nbformat": 4,
 "nbformat_minor": 2
}
